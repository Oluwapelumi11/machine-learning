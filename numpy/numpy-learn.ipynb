{
 "cells": [
  {
   "cell_type": "markdown",
   "id": "303e0c1b",
   "metadata": {},
   "source": [
    "# Numpy Practice Notebook"
   ]
  },
  {
   "cell_type": "code",
   "execution_count": 4,
   "id": "076dd4be",
   "metadata": {},
   "outputs": [],
   "source": [
    "## first import numpy using an alias\n",
    "import numpy as np"
   ]
  },
  {
   "cell_type": "markdown",
   "id": "f95246ad",
   "metadata": {},
   "source": [
    "## Datatypes and attribute"
   ]
  },
  {
   "cell_type": "code",
   "execution_count": 2,
   "id": "42f61d76",
   "metadata": {},
   "outputs": [],
   "source": [
    "# its main datatype is ndarray (n dimensional array)"
   ]
  },
  {
   "cell_type": "code",
   "execution_count": 3,
   "id": "4b018f3c",
   "metadata": {},
   "outputs": [
    {
     "data": {
      "text/plain": [
       "array([1, 2, 3])"
      ]
     },
     "execution_count": 3,
     "metadata": {},
     "output_type": "execute_result"
    }
   ],
   "source": [
    "a1 = np.array([1,2,3])\n",
    "a1"
   ]
  },
  {
   "cell_type": "code",
   "execution_count": 4,
   "id": "940e665e",
   "metadata": {},
   "outputs": [
    {
     "data": {
      "text/plain": [
       "numpy.ndarray"
      ]
     },
     "execution_count": 4,
     "metadata": {},
     "output_type": "execute_result"
    }
   ],
   "source": [
    "type(a1)"
   ]
  },
  {
   "cell_type": "code",
   "execution_count": 6,
   "id": "31fe97aa",
   "metadata": {},
   "outputs": [],
   "source": [
    "a2 = np.array([[1,2,3.5],\n",
    "             [4,5,6.5]])\n",
    "a3 = np.array([[[1,2,3],\n",
    "             [4,5,6],\n",
    "             [7,8,9]],\n",
    "             [[10,11,12],\n",
    "             [13,14,15],\n",
    "             [16,17,18]]])"
   ]
  },
  {
   "cell_type": "code",
   "execution_count": 8,
   "id": "7dcf0e2e",
   "metadata": {},
   "outputs": [
    {
     "data": {
      "text/plain": [
       "array([[1. , 2. , 3.5],\n",
       "       [4. , 5. , 6.5]])"
      ]
     },
     "execution_count": 8,
     "metadata": {},
     "output_type": "execute_result"
    }
   ],
   "source": [
    "a2"
   ]
  },
  {
   "cell_type": "code",
   "execution_count": 9,
   "id": "ab16d445",
   "metadata": {},
   "outputs": [
    {
     "data": {
      "text/plain": [
       "numpy.ndarray"
      ]
     },
     "execution_count": 9,
     "metadata": {},
     "output_type": "execute_result"
    }
   ],
   "source": [
    "type(a2)"
   ]
  },
  {
   "cell_type": "code",
   "execution_count": 10,
   "id": "b000e0af",
   "metadata": {},
   "outputs": [
    {
     "data": {
      "text/plain": [
       "array([[[ 1,  2,  3],\n",
       "        [ 4,  5,  6],\n",
       "        [ 7,  8,  9]],\n",
       "\n",
       "       [[10, 11, 12],\n",
       "        [13, 14, 15],\n",
       "        [16, 17, 18]]])"
      ]
     },
     "execution_count": 10,
     "metadata": {},
     "output_type": "execute_result"
    }
   ],
   "source": [
    "a3"
   ]
  },
  {
   "cell_type": "code",
   "execution_count": 11,
   "id": "a2cc780f",
   "metadata": {},
   "outputs": [],
   "source": [
    "## in numpy axis 0 = rows\n",
    "## axis 1 = columns\n",
    "## axis 2 = n dimensions of the array\n",
    "## this a3 array has a shape of 2,3,3 \n"
   ]
  },
  {
   "cell_type": "code",
   "execution_count": 12,
   "id": "5a900aee",
   "metadata": {},
   "outputs": [],
   "source": [
    "## lets look at np attributes"
   ]
  },
  {
   "cell_type": "code",
   "execution_count": 13,
   "id": "263da715",
   "metadata": {},
   "outputs": [
    {
     "data": {
      "text/plain": [
       "(3,)"
      ]
     },
     "execution_count": 13,
     "metadata": {},
     "output_type": "execute_result"
    }
   ],
   "source": [
    "a1.shape"
   ]
  },
  {
   "cell_type": "code",
   "execution_count": 14,
   "id": "72a875a2",
   "metadata": {},
   "outputs": [
    {
     "data": {
      "text/plain": [
       "(2, 3)"
      ]
     },
     "execution_count": 14,
     "metadata": {},
     "output_type": "execute_result"
    }
   ],
   "source": [
    "a2.shape"
   ]
  },
  {
   "cell_type": "code",
   "execution_count": 15,
   "id": "ca58a3cb",
   "metadata": {},
   "outputs": [
    {
     "data": {
      "text/plain": [
       "(2, 3, 3)"
      ]
     },
     "execution_count": 15,
     "metadata": {},
     "output_type": "execute_result"
    }
   ],
   "source": [
    "a3.shape"
   ]
  },
  {
   "cell_type": "code",
   "execution_count": 16,
   "id": "30a13e5f",
   "metadata": {},
   "outputs": [
    {
     "data": {
      "text/plain": [
       "1"
      ]
     },
     "execution_count": 16,
     "metadata": {},
     "output_type": "execute_result"
    }
   ],
   "source": [
    "## check dimensions\n",
    "a1.ndim"
   ]
  },
  {
   "cell_type": "code",
   "execution_count": 17,
   "id": "a7a48db9",
   "metadata": {},
   "outputs": [
    {
     "data": {
      "text/plain": [
       "2"
      ]
     },
     "execution_count": 17,
     "metadata": {},
     "output_type": "execute_result"
    }
   ],
   "source": [
    "a2.ndim"
   ]
  },
  {
   "cell_type": "code",
   "execution_count": 18,
   "id": "a2a27d9f",
   "metadata": {},
   "outputs": [
    {
     "data": {
      "text/plain": [
       "3"
      ]
     },
     "execution_count": 18,
     "metadata": {},
     "output_type": "execute_result"
    }
   ],
   "source": [
    "a3.ndim"
   ]
  },
  {
   "cell_type": "code",
   "execution_count": 19,
   "id": "eab536a3",
   "metadata": {},
   "outputs": [
    {
     "data": {
      "text/plain": [
       "dtype('int32')"
      ]
     },
     "execution_count": 19,
     "metadata": {},
     "output_type": "execute_result"
    }
   ],
   "source": [
    "## to check for types\n",
    "a1.dtype"
   ]
  },
  {
   "cell_type": "code",
   "execution_count": 20,
   "id": "838a0f19",
   "metadata": {},
   "outputs": [
    {
     "data": {
      "text/plain": [
       "dtype('float64')"
      ]
     },
     "execution_count": 20,
     "metadata": {},
     "output_type": "execute_result"
    }
   ],
   "source": [
    "a2.dtype"
   ]
  },
  {
   "cell_type": "code",
   "execution_count": 21,
   "id": "988f1ade",
   "metadata": {},
   "outputs": [
    {
     "data": {
      "text/plain": [
       "dtype('int32')"
      ]
     },
     "execution_count": 21,
     "metadata": {},
     "output_type": "execute_result"
    }
   ],
   "source": [
    "a3.dtype"
   ]
  },
  {
   "cell_type": "code",
   "execution_count": 22,
   "id": "07edeaf8",
   "metadata": {},
   "outputs": [
    {
     "data": {
      "text/plain": [
       "3"
      ]
     },
     "execution_count": 22,
     "metadata": {},
     "output_type": "execute_result"
    }
   ],
   "source": [
    "# you can also check for sizes\n",
    "a1.size"
   ]
  },
  {
   "cell_type": "code",
   "execution_count": 23,
   "id": "4f079eb6",
   "metadata": {},
   "outputs": [
    {
     "data": {
      "text/plain": [
       "6"
      ]
     },
     "execution_count": 23,
     "metadata": {},
     "output_type": "execute_result"
    }
   ],
   "source": [
    "a2.size"
   ]
  },
  {
   "cell_type": "code",
   "execution_count": 24,
   "id": "ccb15bfc",
   "metadata": {
    "scrolled": true
   },
   "outputs": [
    {
     "data": {
      "text/plain": [
       "18"
      ]
     },
     "execution_count": 24,
     "metadata": {},
     "output_type": "execute_result"
    }
   ],
   "source": [
    "a3.size"
   ]
  },
  {
   "cell_type": "code",
   "execution_count": 26,
   "id": "b5cbc58e",
   "metadata": {},
   "outputs": [],
   "source": [
    "## great work faith"
   ]
  },
  {
   "cell_type": "code",
   "execution_count": 27,
   "id": "491b76a5",
   "metadata": {},
   "outputs": [],
   "source": [
    "## now lets create a Pandas Data frame from numpy\n",
    "import pandas as pd"
   ]
  },
  {
   "cell_type": "code",
   "execution_count": 29,
   "id": "1573b986",
   "metadata": {},
   "outputs": [],
   "source": [
    "df = pd.DataFrame(a2)"
   ]
  },
  {
   "cell_type": "code",
   "execution_count": 30,
   "id": "bb41b7cb",
   "metadata": {
    "scrolled": true
   },
   "outputs": [
    {
     "data": {
      "text/html": [
       "<div>\n",
       "<style scoped>\n",
       "    .dataframe tbody tr th:only-of-type {\n",
       "        vertical-align: middle;\n",
       "    }\n",
       "\n",
       "    .dataframe tbody tr th {\n",
       "        vertical-align: top;\n",
       "    }\n",
       "\n",
       "    .dataframe thead th {\n",
       "        text-align: right;\n",
       "    }\n",
       "</style>\n",
       "<table border=\"1\" class=\"dataframe\">\n",
       "  <thead>\n",
       "    <tr style=\"text-align: right;\">\n",
       "      <th></th>\n",
       "      <th>0</th>\n",
       "      <th>1</th>\n",
       "      <th>2</th>\n",
       "    </tr>\n",
       "  </thead>\n",
       "  <tbody>\n",
       "    <tr>\n",
       "      <th>0</th>\n",
       "      <td>1.0</td>\n",
       "      <td>2.0</td>\n",
       "      <td>3.5</td>\n",
       "    </tr>\n",
       "    <tr>\n",
       "      <th>1</th>\n",
       "      <td>4.0</td>\n",
       "      <td>5.0</td>\n",
       "      <td>6.5</td>\n",
       "    </tr>\n",
       "  </tbody>\n",
       "</table>\n",
       "</div>"
      ],
      "text/plain": [
       "     0    1    2\n",
       "0  1.0  2.0  3.5\n",
       "1  4.0  5.0  6.5"
      ]
     },
     "execution_count": 30,
     "metadata": {},
     "output_type": "execute_result"
    }
   ],
   "source": [
    "df"
   ]
  },
  {
   "cell_type": "code",
   "execution_count": 31,
   "id": "3fe4afb4",
   "metadata": {},
   "outputs": [],
   "source": [
    "## Great "
   ]
  },
  {
   "cell_type": "code",
   "execution_count": 32,
   "id": "31861261",
   "metadata": {},
   "outputs": [
    {
     "data": {
      "text/plain": [
       "pandas.core.frame.DataFrame"
      ]
     },
     "execution_count": 32,
     "metadata": {},
     "output_type": "execute_result"
    }
   ],
   "source": [
    "type(df)"
   ]
  },
  {
   "cell_type": "code",
   "execution_count": 33,
   "id": "e574feac",
   "metadata": {},
   "outputs": [],
   "source": [
    "#hmmm...\n"
   ]
  },
  {
   "cell_type": "markdown",
   "id": "b95748b5",
   "metadata": {},
   "source": [
    "## Creating Arrays in numpy"
   ]
  },
  {
   "cell_type": "code",
   "execution_count": 34,
   "id": "127b442d",
   "metadata": {},
   "outputs": [],
   "source": [
    "## its cool that we can create arrays ourselves in numpy but its also tiring\n",
    "# let me create an array using numpy functions"
   ]
  },
  {
   "cell_type": "code",
   "execution_count": 40,
   "id": "1043741a",
   "metadata": {},
   "outputs": [
    {
     "data": {
      "text/plain": [
       "array([[1., 1., 1., 1.],\n",
       "       [1., 1., 1., 1.]])"
      ]
     },
     "execution_count": 40,
     "metadata": {},
     "output_type": "execute_result"
    }
   ],
   "source": [
    "ones =  np.ones((2,4))\n",
    "ones"
   ]
  },
  {
   "cell_type": "code",
   "execution_count": 41,
   "id": "d2ec35df",
   "metadata": {},
   "outputs": [
    {
     "data": {
      "text/plain": [
       "dtype('float64')"
      ]
     },
     "execution_count": 41,
     "metadata": {},
     "output_type": "execute_result"
    }
   ],
   "source": [
    "## defalult dtype 0s float64\n",
    "ones.dtype"
   ]
  },
  {
   "cell_type": "code",
   "execution_count": 45,
   "id": "1d61a810",
   "metadata": {},
   "outputs": [
    {
     "data": {
      "text/plain": [
       "array([[0., 0., 0., 0., 0.],\n",
       "       [0., 0., 0., 0., 0.],\n",
       "       [0., 0., 0., 0., 0.],\n",
       "       [0., 0., 0., 0., 0.],\n",
       "       [0., 0., 0., 0., 0.],\n",
       "       [0., 0., 0., 0., 0.]])"
      ]
     },
     "execution_count": 45,
     "metadata": {},
     "output_type": "execute_result"
    }
   ],
   "source": [
    "zeroes = np.zeros((6,5))\n",
    "zeroes"
   ]
  },
  {
   "cell_type": "code",
   "execution_count": 46,
   "id": "1c6ce6cd",
   "metadata": {},
   "outputs": [],
   "source": [
    "#3 lets look at numpy's random methods\n",
    "random1 = np.random.randint(0,5, size=(3,5))"
   ]
  },
  {
   "cell_type": "code",
   "execution_count": 47,
   "id": "e077148f",
   "metadata": {},
   "outputs": [
    {
     "data": {
      "text/plain": [
       "array([[2, 1, 2, 2, 4],\n",
       "       [3, 1, 1, 2, 2],\n",
       "       [0, 1, 0, 2, 1]])"
      ]
     },
     "execution_count": 47,
     "metadata": {},
     "output_type": "execute_result"
    }
   ],
   "source": [
    "random1"
   ]
  },
  {
   "cell_type": "code",
   "execution_count": 69,
   "id": "d1e79c26",
   "metadata": {},
   "outputs": [
    {
     "data": {
      "text/plain": [
       "array([[0.4359949 , 0.02592623, 0.54966248, 0.43532239, 0.4203678 ,\n",
       "        0.33033482],\n",
       "       [0.20464863, 0.61927097, 0.29965467, 0.26682728, 0.62113383,\n",
       "        0.52914209],\n",
       "       [0.13457995, 0.51357812, 0.18443987, 0.78533515, 0.85397529,\n",
       "        0.49423684]])"
      ]
     },
     "execution_count": 69,
     "metadata": {},
     "output_type": "execute_result"
    }
   ],
   "source": [
    "np.random.seed(2)\n",
    "random2 = np.random.random((3,6))\n",
    "random2"
   ]
  },
  {
   "cell_type": "code",
   "execution_count": 70,
   "id": "61cb46c1",
   "metadata": {},
   "outputs": [
    {
     "data": {
      "text/plain": [
       "array([[0.4359949 , 0.02592623, 0.54966248, 0.43532239, 0.4203678 ,\n",
       "        0.33033482],\n",
       "       [0.20464863, 0.61927097, 0.29965467, 0.26682728, 0.62113383,\n",
       "        0.52914209],\n",
       "       [0.13457995, 0.51357812, 0.18443987, 0.78533515, 0.85397529,\n",
       "        0.49423684]])"
      ]
     },
     "execution_count": 70,
     "metadata": {},
     "output_type": "execute_result"
    }
   ],
   "source": [
    "np.random.seed(2)\n",
    "random6 = np.random.random((3,6))\n",
    "random6"
   ]
  },
  {
   "cell_type": "code",
   "execution_count": 71,
   "id": "46b0a034",
   "metadata": {},
   "outputs": [],
   "source": [
    "## nice work faith\n",
    "# the random seed helps to keep the numbers stable without changing incase of sharing your notebook\n",
    "## that means the random generated  numbers are not actually random, they are pseudo random numbers\n"
   ]
  },
  {
   "cell_type": "code",
   "execution_count": 59,
   "id": "0a7a0106",
   "metadata": {},
   "outputs": [],
   "source": [
    "random3 = np.random.rand(3,4,2)"
   ]
  },
  {
   "cell_type": "code",
   "execution_count": 65,
   "id": "43cb5200",
   "metadata": {},
   "outputs": [
    {
     "data": {
      "text/plain": [
       "array([[[0.24428982, 0.38406474],\n",
       "        [0.66066762, 0.39887224],\n",
       "        [0.99417857, 0.67694733],\n",
       "        [0.92754815, 0.43274131]],\n",
       "\n",
       "       [[0.95776004, 0.17669287],\n",
       "        [0.75904895, 0.22570017],\n",
       "        [0.74919137, 0.78324043],\n",
       "        [0.09386711, 0.32471562]],\n",
       "\n",
       "       [[0.48567859, 0.96740507],\n",
       "        [0.34587189, 0.12886182],\n",
       "        [0.14754746, 0.06377291],\n",
       "        [0.41187389, 0.57848214]]])"
      ]
     },
     "execution_count": 65,
     "metadata": {},
     "output_type": "execute_result"
    }
   ],
   "source": [
    "random3"
   ]
  },
  {
   "cell_type": "code",
   "execution_count": 54,
   "id": "ffeae098",
   "metadata": {},
   "outputs": [],
   "source": [
    "## great work faith"
   ]
  },
  {
   "cell_type": "code",
   "execution_count": 2,
   "id": "986bf472",
   "metadata": {},
   "outputs": [
    {
     "ename": "NameError",
     "evalue": "name 'np' is not defined",
     "output_type": "error",
     "traceback": [
      "\u001b[1;31m---------------------------------------------------------------------------\u001b[0m",
      "\u001b[1;31mNameError\u001b[0m                                 Traceback (most recent call last)",
      "Cell \u001b[1;32mIn[2], line 1\u001b[0m\n\u001b[1;32m----> 1\u001b[0m numrange \u001b[38;5;241m=\u001b[39m np\u001b[38;5;241m.\u001b[39marange(\u001b[38;5;241m10\u001b[39m,\u001b[38;5;241m100\u001b[39m,\u001b[38;5;241m4\u001b[39m)\n",
      "\u001b[1;31mNameError\u001b[0m: name 'np' is not defined"
     ]
    }
   ],
   "source": [
    "numrange = np.arange(10,100,4)"
   ]
  },
  {
   "cell_type": "code",
   "execution_count": 3,
   "id": "22537054",
   "metadata": {},
   "outputs": [
    {
     "ename": "NameError",
     "evalue": "name 'numrange' is not defined",
     "output_type": "error",
     "traceback": [
      "\u001b[1;31m---------------------------------------------------------------------------\u001b[0m",
      "\u001b[1;31mNameError\u001b[0m                                 Traceback (most recent call last)",
      "Cell \u001b[1;32mIn[3], line 1\u001b[0m\n\u001b[1;32m----> 1\u001b[0m numrange\n",
      "\u001b[1;31mNameError\u001b[0m: name 'numrange' is not defined"
     ]
    }
   ],
   "source": [
    "numrange"
   ]
  },
  {
   "cell_type": "markdown",
   "id": "faa87738",
   "metadata": {},
   "source": [
    "## Viewing Arrays and Matrices"
   ]
  },
  {
   "cell_type": "code",
   "execution_count": 5,
   "id": "b9ba711a",
   "metadata": {},
   "outputs": [
    {
     "ename": "NameError",
     "evalue": "name 'a1' is not defined",
     "output_type": "error",
     "traceback": [
      "\u001b[1;31m---------------------------------------------------------------------------\u001b[0m",
      "\u001b[1;31mNameError\u001b[0m                                 Traceback (most recent call last)",
      "Cell \u001b[1;32mIn[5], line 1\u001b[0m\n\u001b[1;32m----> 1\u001b[0m a1\n",
      "\u001b[1;31mNameError\u001b[0m: name 'a1' is not defined"
     ]
    }
   ],
   "source": [
    "a1"
   ]
  },
  {
   "cell_type": "code",
   "execution_count": 73,
   "id": "c70fba0e",
   "metadata": {},
   "outputs": [
    {
     "data": {
      "text/plain": [
       "1"
      ]
     },
     "execution_count": 73,
     "metadata": {},
     "output_type": "execute_result"
    }
   ],
   "source": [
    "a1.ndim"
   ]
  },
  {
   "cell_type": "code",
   "execution_count": 74,
   "id": "98124403",
   "metadata": {},
   "outputs": [
    {
     "data": {
      "text/plain": [
       "2"
      ]
     },
     "execution_count": 74,
     "metadata": {},
     "output_type": "execute_result"
    }
   ],
   "source": [
    "a1[1]"
   ]
  },
  {
   "cell_type": "code",
   "execution_count": 75,
   "id": "5547618c",
   "metadata": {},
   "outputs": [
    {
     "data": {
      "text/plain": [
       "array([[[ 1,  2,  3],\n",
       "        [ 4,  5,  6],\n",
       "        [ 7,  8,  9]],\n",
       "\n",
       "       [[10, 11, 12],\n",
       "        [13, 14, 15],\n",
       "        [16, 17, 18]]])"
      ]
     },
     "execution_count": 75,
     "metadata": {},
     "output_type": "execute_result"
    }
   ],
   "source": [
    "a3\n"
   ]
  },
  {
   "cell_type": "code",
   "execution_count": 78,
   "id": "003a42f0",
   "metadata": {},
   "outputs": [
    {
     "data": {
      "text/plain": [
       "array([4, 5, 6])"
      ]
     },
     "execution_count": 78,
     "metadata": {},
     "output_type": "execute_result"
    }
   ],
   "source": [
    "a3[0,1]"
   ]
  },
  {
   "cell_type": "code",
   "execution_count": 83,
   "id": "9f70b204",
   "metadata": {},
   "outputs": [
    {
     "data": {
      "text/plain": [
       "array([[[ 4],\n",
       "        [ 7]],\n",
       "\n",
       "       [[13],\n",
       "        [16]]])"
      ]
     },
     "execution_count": 83,
     "metadata": {},
     "output_type": "execute_result"
    }
   ],
   "source": [
    "a3[:2,1:3,:1]"
   ]
  },
  {
   "cell_type": "code",
   "execution_count": 8,
   "id": "9b742cdb",
   "metadata": {},
   "outputs": [
    {
     "data": {
      "text/plain": [
       "array([ 1,  2,  3,  4,  5,  6,  7,  8,  9, 10, 11, 12, 13, 14, 15, 16, 17,\n",
       "       18])"
      ]
     },
     "execution_count": 8,
     "metadata": {},
     "output_type": "execute_result"
    }
   ],
   "source": [
    "np.unique(a3)"
   ]
  },
  {
   "cell_type": "code",
   "execution_count": 9,
   "id": "cf2dad4b",
   "metadata": {},
   "outputs": [
    {
     "data": {
      "text/plain": [
       "array([[1, 2, 3],\n",
       "       [4, 5, 6],\n",
       "       [7, 8, 9]])"
      ]
     },
     "execution_count": 9,
     "metadata": {},
     "output_type": "execute_result"
    }
   ],
   "source": [
    "a3[0]"
   ]
  },
  {
   "cell_type": "code",
   "execution_count": 10,
   "id": "b74134a4",
   "metadata": {},
   "outputs": [
    {
     "data": {
      "text/plain": [
       "array([1, 2, 3])"
      ]
     },
     "execution_count": 10,
     "metadata": {},
     "output_type": "execute_result"
    }
   ],
   "source": [
    "a3[0,0]"
   ]
  },
  {
   "cell_type": "code",
   "execution_count": 11,
   "id": "b97f1d11",
   "metadata": {},
   "outputs": [
    {
     "data": {
      "text/plain": [
       "1"
      ]
     },
     "execution_count": 11,
     "metadata": {},
     "output_type": "execute_result"
    }
   ],
   "source": [
    "a3[0,0,0]"
   ]
  },
  {
   "cell_type": "code",
   "execution_count": 12,
   "id": "4aa778e4",
   "metadata": {},
   "outputs": [
    {
     "data": {
      "text/plain": [
       "array([[[1],\n",
       "        [4]]])"
      ]
     },
     "execution_count": 12,
     "metadata": {},
     "output_type": "execute_result"
    }
   ],
   "source": [
    "a3[:1,:2,:1]"
   ]
  },
  {
   "cell_type": "code",
   "execution_count": 13,
   "id": "be2119fd",
   "metadata": {},
   "outputs": [
    {
     "data": {
      "text/plain": [
       "array([[[ 1]],\n",
       "\n",
       "       [[10]]])"
      ]
     },
     "execution_count": 13,
     "metadata": {},
     "output_type": "execute_result"
    }
   ],
   "source": [
    "a3[:2,:1,:1]"
   ]
  },
  {
   "cell_type": "code",
   "execution_count": 14,
   "id": "d0468ceb",
   "metadata": {},
   "outputs": [],
   "source": [
    "a4 = np.random.randint(10, size=(2,4,6,7))"
   ]
  },
  {
   "cell_type": "code",
   "execution_count": 15,
   "id": "c08d6316",
   "metadata": {},
   "outputs": [
    {
     "data": {
      "text/plain": [
       "array([[[[8, 0, 4, 7, 9, 2, 2],\n",
       "         [6, 3, 7, 2, 6, 2, 1],\n",
       "         [2, 0, 4, 8, 2, 2, 1],\n",
       "         [9, 1, 7, 9, 5, 6, 3],\n",
       "         [4, 9, 2, 9, 8, 8, 2],\n",
       "         [6, 0, 2, 5, 6, 6, 1]],\n",
       "\n",
       "        [[1, 5, 7, 7, 1, 9, 7],\n",
       "         [6, 2, 9, 1, 9, 3, 9],\n",
       "         [9, 1, 5, 9, 1, 8, 4],\n",
       "         [3, 5, 0, 5, 4, 2, 0],\n",
       "         [4, 5, 2, 2, 1, 5, 2],\n",
       "         [2, 7, 9, 6, 6, 3, 9]],\n",
       "\n",
       "        [[1, 8, 6, 8, 0, 1, 9],\n",
       "         [5, 9, 8, 6, 8, 5, 5],\n",
       "         [5, 5, 9, 6, 1, 7, 6],\n",
       "         [8, 8, 8, 6, 2, 0, 2],\n",
       "         [6, 7, 9, 4, 5, 9, 6],\n",
       "         [0, 8, 9, 2, 8, 3, 6]],\n",
       "\n",
       "        [[7, 5, 3, 0, 6, 6, 0],\n",
       "         [6, 3, 6, 8, 2, 4, 6],\n",
       "         [0, 8, 2, 0, 0, 9, 7],\n",
       "         [4, 2, 7, 7, 0, 0, 7],\n",
       "         [8, 1, 0, 2, 6, 0, 0],\n",
       "         [8, 2, 4, 8, 2, 5, 5]]],\n",
       "\n",
       "\n",
       "       [[[7, 8, 4, 8, 0, 3, 5],\n",
       "         [3, 2, 4, 4, 1, 0, 0],\n",
       "         [2, 2, 3, 6, 1, 9, 6],\n",
       "         [9, 4, 0, 2, 2, 1, 6],\n",
       "         [6, 2, 7, 2, 5, 8, 7],\n",
       "         [3, 7, 9, 1, 8, 4, 6]],\n",
       "\n",
       "        [[1, 9, 6, 8, 9, 0, 0],\n",
       "         [3, 5, 4, 7, 1, 8, 5],\n",
       "         [9, 0, 7, 5, 4, 3, 3],\n",
       "         [3, 2, 6, 7, 4, 7, 9],\n",
       "         [6, 4, 1, 5, 7, 5, 6],\n",
       "         [8, 6, 0, 3, 6, 9, 6]],\n",
       "\n",
       "        [[7, 3, 7, 3, 9, 7, 2],\n",
       "         [2, 0, 9, 8, 5, 4, 2],\n",
       "         [1, 0, 3, 8, 3, 5, 6],\n",
       "         [2, 3, 4, 8, 0, 2, 0],\n",
       "         [8, 4, 7, 1, 2, 8, 8],\n",
       "         [5, 0, 2, 5, 3, 7, 5]],\n",
       "\n",
       "        [[0, 3, 3, 5, 6, 3, 9],\n",
       "         [4, 2, 9, 8, 4, 4, 3],\n",
       "         [3, 7, 5, 5, 4, 9, 7],\n",
       "         [2, 8, 7, 1, 4, 7, 2],\n",
       "         [0, 2, 8, 4, 3, 0, 1],\n",
       "         [0, 3, 9, 8, 1, 7, 8]]]])"
      ]
     },
     "execution_count": 15,
     "metadata": {},
     "output_type": "execute_result"
    }
   ],
   "source": [
    "a4"
   ]
  },
  {
   "cell_type": "code",
   "execution_count": 16,
   "id": "c4f6dc54",
   "metadata": {},
   "outputs": [],
   "source": [
    "# cool now let me play with this\n",
    "# list all the first columns of each matrix"
   ]
  },
  {
   "cell_type": "code",
   "execution_count": 17,
   "id": "81b2a8e9",
   "metadata": {},
   "outputs": [
    {
     "data": {
      "text/plain": [
       "array([[[[8],\n",
       "         [6],\n",
       "         [2],\n",
       "         [9],\n",
       "         [4],\n",
       "         [6]],\n",
       "\n",
       "        [[1],\n",
       "         [6],\n",
       "         [9],\n",
       "         [3],\n",
       "         [4],\n",
       "         [2]],\n",
       "\n",
       "        [[1],\n",
       "         [5],\n",
       "         [5],\n",
       "         [8],\n",
       "         [6],\n",
       "         [0]],\n",
       "\n",
       "        [[7],\n",
       "         [6],\n",
       "         [0],\n",
       "         [4],\n",
       "         [8],\n",
       "         [8]]],\n",
       "\n",
       "\n",
       "       [[[7],\n",
       "         [3],\n",
       "         [2],\n",
       "         [9],\n",
       "         [6],\n",
       "         [3]],\n",
       "\n",
       "        [[1],\n",
       "         [3],\n",
       "         [9],\n",
       "         [3],\n",
       "         [6],\n",
       "         [8]],\n",
       "\n",
       "        [[7],\n",
       "         [2],\n",
       "         [1],\n",
       "         [2],\n",
       "         [8],\n",
       "         [5]],\n",
       "\n",
       "        [[0],\n",
       "         [4],\n",
       "         [3],\n",
       "         [2],\n",
       "         [0],\n",
       "         [0]]]])"
      ]
     },
     "execution_count": 17,
     "metadata": {},
     "output_type": "execute_result"
    }
   ],
   "source": [
    "a4[:2,:4,:7,:1]"
   ]
  },
  {
   "cell_type": "code",
   "execution_count": 19,
   "id": "de99ad16",
   "metadata": {},
   "outputs": [],
   "source": [
    "## great work \n",
    "## now show the last two numbers of every last column"
   ]
  },
  {
   "cell_type": "code",
   "execution_count": 30,
   "id": "af2542fc",
   "metadata": {},
   "outputs": [
    {
     "data": {
      "text/plain": [
       "array([[[[2],\n",
       "         [1]],\n",
       "\n",
       "        [[2],\n",
       "         [9]],\n",
       "\n",
       "        [[6],\n",
       "         [6]],\n",
       "\n",
       "        [[0],\n",
       "         [5]]],\n",
       "\n",
       "\n",
       "       [[[7],\n",
       "         [6]],\n",
       "\n",
       "        [[6],\n",
       "         [6]],\n",
       "\n",
       "        [[8],\n",
       "         [5]],\n",
       "\n",
       "        [[1],\n",
       "         [8]]]])"
      ]
     },
     "execution_count": 30,
     "metadata": {},
     "output_type": "execute_result"
    }
   ],
   "source": [
    "a4[:2,:4,4:6,6:8]"
   ]
  },
  {
   "cell_type": "code",
   "execution_count": 31,
   "id": "5c90f27e",
   "metadata": {},
   "outputs": [],
   "source": [
    "## great work faith"
   ]
  },
  {
   "cell_type": "code",
   "execution_count": null,
   "id": "2fffef41",
   "metadata": {},
   "outputs": [],
   "source": []
  }
 ],
 "metadata": {
  "kernelspec": {
   "display_name": "Python 3 (ipykernel)",
   "language": "python",
   "name": "python3"
  },
  "language_info": {
   "codemirror_mode": {
    "name": "ipython",
    "version": 3
   },
   "file_extension": ".py",
   "mimetype": "text/x-python",
   "name": "python",
   "nbconvert_exporter": "python",
   "pygments_lexer": "ipython3",
   "version": "3.11.5"
  }
 },
 "nbformat": 4,
 "nbformat_minor": 5
}
